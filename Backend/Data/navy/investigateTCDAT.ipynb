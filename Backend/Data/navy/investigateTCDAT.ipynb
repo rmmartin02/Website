{
 "cells": [
  {
   "cell_type": "code",
   "execution_count": 2,
   "metadata": {
    "collapsed": true,
    "pycharm": {
     "is_executing": false
    }
   },
   "outputs": [],
   "source": [
    "import csv\n",
    "import re"
   ]
  },
  {
   "cell_type": "code",
   "execution_count": 4,
   "outputs": [],
   "source": [
    "imgFieldSetLens = {}\n",
    "examples = []\n",
    "with open('tcdat.csv', 'r') as tcdatCSV:\n",
    "    reader = csv.reader(tcdatCSV)\n",
    "    for row in reader:\n",
    "        img = row[6].split('.')\n",
    "        if len(img) in imgFieldSetLens:\n",
    "            imgFieldSetLens[len(img)] += 1\n",
    "        else:\n",
    "            imgFieldSetLens[len(img)] = 1\n",
    "            examples.append(img)"
   ],
   "metadata": {
    "collapsed": false,
    "pycharm": {
     "name": "#%%\n",
     "is_executing": false
    }
   }
  },
  {
   "cell_type": "code",
   "execution_count": 36,
   "outputs": [],
   "source": [
    "extensions = {}\n",
    "extExamples = []\n",
    "with open('tcdat.csv', 'r') as tcdatCSV:\n",
    "    reader = csv.reader(tcdatCSV)\n",
    "    for row in reader:\n",
    "        img = row[6].split('.')\n",
    "        if img[-1] in extensions:\n",
    "            extensions[img[-1]] += 1\n",
    "        else:\n",
    "            extensions[img[-1]] = 1\n",
    "            extExamples.append(img)\n",
    "            "
   ],
   "metadata": {
    "collapsed": false,
    "pycharm": {
     "name": "#%%\n",
     "is_executing": false
    }
   }
  },
  {
   "cell_type": "code",
   "execution_count": 20,
   "outputs": [],
   "source": [
    "count0 = 0\n",
    "badDate = []\n",
    "with open('tcdat.csv', 'r') as tcdatCSV:\n",
    "    reader = csv.reader(tcdatCSV)\n",
    "    for row in reader:\n",
    "        img = row[6].split('.')\n",
    "        if not re.findall('[\\d]{8}$',img[0]):\n",
    "            badDate.append(img)\n",
    "            count0 += 1\n",
    "            "
   ],
   "metadata": {
    "collapsed": false,
    "pycharm": {
     "name": "#%%\n",
     "is_executing": false
    }
   }
  },
  {
   "cell_type": "code",
   "execution_count": 31,
   "outputs": [
    {
     "name": "stdout",
     "text": [
      "190432\n",
      "9362942\n",
      "9553449\n",
      "75\n"
     ],
     "output_type": "stream"
    }
   ],
   "source": [
    "withSeconds = 0\n",
    "withoutSeconds = 0\n",
    "total = 0\n",
    "with open('tcdat.csv', 'r') as tcdatCSV:\n",
    "    reader = csv.reader(tcdatCSV)\n",
    "    for row in reader:\n",
    "        img = row[6].split('.')\n",
    "        if re.findall('[\\d]{8}$',img[0]):\n",
    "            if re.fullmatch('[\\d]{4}$',img[1]):\n",
    "                withoutSeconds += 1\n",
    "            if re.fullmatch('[\\d]{6}$',img[1]):\n",
    "                withSeconds += 1\n",
    "            total += 1\n",
    "print(withSeconds)\n",
    "print(withoutSeconds)\n",
    "print(total)\n",
    "print(total - withoutSeconds - withSeconds)"
   ],
   "metadata": {
    "collapsed": false,
    "pycharm": {
     "name": "#%%\n",
     "is_executing": false
    }
   }
  },
  {
   "cell_type": "code",
   "execution_count": 5,
   "outputs": [],
   "source": [
    "count1 = 0\n",
    "with open('tcdat.csv', 'r') as tcdatCSV:\n",
    "    reader = csv.reader(tcdatCSV)\n",
    "    for row in reader:\n",
    "        img = row[6].split('.')\n",
    "        if re.fullmatch('\\d\\d\\d\\d\\d\\d\\d\\d',img[0]) and not re.fullmatch('\\d\\d\\d\\d',img[1]):\n",
    "            #print(img)\n",
    "            count1 += 1"
   ],
   "metadata": {
    "collapsed": false,
    "pycharm": {
     "name": "#%%\n",
     "is_executing": false
    }
   }
  },
  {
   "cell_type": "code",
   "execution_count": 6,
   "outputs": [],
   "source": [
    "count2 = 0\n",
    "with open('tcdat.csv', 'r') as tcdatCSV:\n",
    "    reader = csv.reader(tcdatCSV)\n",
    "    for row in reader:\n",
    "        img = row[6].split('.')\n",
    "        if re.match('\\d\\d\\d\\d\\d\\d\\d\\d',img[0]) and not re.fullmatch('\\d\\d\\d\\d\\d\\d\\d\\d',img[0]):\n",
    "            #print(img)\n",
    "            count2 += 1\n",
    "            "
   ],
   "metadata": {
    "collapsed": false,
    "pycharm": {
     "name": "#%%\n",
     "is_executing": false
    }
   }
  },
  {
   "cell_type": "code",
   "execution_count": 12,
   "outputs": [],
   "source": [
    "satellites = {}\n",
    "satExamples = []\n",
    "with open('tcdat.csv', 'r') as tcdatCSV:\n",
    "    reader = csv.reader(tcdatCSV)\n",
    "    for row in reader:\n",
    "        img = row[6].split('.')\n",
    "        if img[2] in satellites:\n",
    "            satellites[img[2]] += 1\n",
    "        else:\n",
    "            satellites[img[2]] = 1\n",
    "            satExamples.append(row)\n",
    "            "
   ],
   "metadata": {
    "collapsed": false,
    "pycharm": {
     "name": "#%%\n",
     "is_executing": false
    }
   }
  },
  {
   "cell_type": "code",
   "execution_count": 32,
   "outputs": [],
   "source": [
    "stormTypes = {}\n",
    "stormTypesExamples = []\n",
    "with open('tcdat.csv', 'r') as tcdatCSV:\n",
    "    reader = csv.reader(tcdatCSV)\n",
    "    for row in reader:\n",
    "        if row[3] in stormTypes:\n",
    "            stormTypes[row[3]] += 1\n",
    "        else:\n",
    "            stormTypes[row[3]] = 1\n",
    "            stormTypesExamples.append(row)"
   ],
   "metadata": {
    "collapsed": false,
    "pycharm": {
     "name": "#%%\n",
     "is_executing": false
    }
   }
  },
  {
   "cell_type": "code",
   "execution_count": 33,
   "outputs": [
    {
     "name": "stdout",
     "text": [
      "0\n"
     ],
     "output_type": "stream"
    }
   ],
   "source": [
    "a = 0\n",
    "with open('tcdat.csv', 'r') as tcdatCSV:\n",
    "    reader = csv.reader(tcdatCSV)\n",
    "    for row in reader:\n",
    "        if not re.fullmatch('[\\d]{2}', row[2]):\n",
    "            a += 1\n",
    "print(a)"
   ],
   "metadata": {
    "collapsed": false,
    "pycharm": {
     "name": "#%%\n",
     "is_executing": false
    }
   }
  },
  {
   "cell_type": "code",
   "execution_count": 8,
   "outputs": [],
   "source": [
    "basinSet = {}\n",
    "with open('tcdat.csv', 'r') as tcdatCSV:\n",
    "    reader = csv.reader(tcdatCSV)\n",
    "    for row in reader:\n",
    "        if row[1] in basinSet:\n",
    "            basinSet[row[1]] += 1\n",
    "        else:\n",
    "            basinSet[row[1]] = 1"
   ],
   "metadata": {
    "collapsed": false,
    "pycharm": {
     "name": "#%%\n",
     "is_executing": false
    }
   }
  },
  {
   "cell_type": "code",
   "execution_count": 9,
   "outputs": [],
   "source": [
    "seasonSet = {}\n",
    "with open('tcdat.csv', 'r') as tcdatCSV:\n",
    "    reader = csv.reader(tcdatCSV)\n",
    "    for row in reader:\n",
    "        if row[0][2] == '9':\n",
    "            row[0] = int('19' + row[0][2:])\n",
    "        else:\n",
    "            row[0] = int('20' + row[0][2:])\n",
    "        if row[0] in seasonSet:\n",
    "            if row[1] in seasonSet[row[0]]:\n",
    "                seasonSet[row[0]][row[1]] += 1\n",
    "            else:\n",
    "                seasonSet[row[0]][row[1]] = 1\n",
    "        else:\n",
    "            seasonSet[row[0]] = {row[1]: 1}\n",
    "       "
   ],
   "metadata": {
    "collapsed": false,
    "pycharm": {
     "name": "#%%\n",
     "is_executing": false
    }
   }
  },
  {
   "cell_type": "code",
   "execution_count": 10,
   "outputs": [
    {
     "data": {
      "text/plain": "<Figure size 432x288 with 1 Axes>",
      "image/png": "[encoded data removed]"
     },
     "metadata": {
      "needs_background": "light"
     },
     "output_type": "display_data"
    }
   ],
   "source": [
    "import matplotlib.pyplot as plt\n",
    "basinList = list(basinSet.keys())\n",
    "basinList.sort()\n",
    "seasonList = list(seasonSet.keys())\n",
    "seasonList.sort()\n",
    "pltList = []\n",
    "for i in range(len(basinList)):\n",
    "    pltList.append([])\n",
    "    for j in range(len(seasonList)):\n",
    "        if basinList[i] in seasonSet[seasonList[j]]:\n",
    "            pltList[i].append(seasonSet[seasonList[j]][basinList[i]])\n",
    "        else:\n",
    "            pltList[i].append(0)\n",
    "for i in range(len(pltList)):\n",
    "    plt.plot(pltList[i], label=basinList[i])\n",
    "plt.xticks(range(len(seasonList)),seasonList)\n",
    "plt.ylabel('some numbers')\n",
    "plt.legend()\n",
    "plt.show()\n"
   ],
   "metadata": {
    "collapsed": false,
    "pycharm": {
     "name": "#%%\n",
     "is_executing": false
    }
   }
  }
 ],
 "metadata": {
  "kernelspec": {
   "display_name": "Python 3",
   "language": "python",
   "name": "python3"
  },
  "language_info": {
   "codemirror_mode": {
    "name": "ipython",
    "version": 2
   },
   "file_extension": ".py",
   "mimetype": "text/x-python",
   "name": "python",
   "nbconvert_exporter": "python",
   "pygments_lexer": "ipython2",
   "version": "2.7.6"
  },
  "pycharm": {
   "stem_cell": {
    "cell_type": "raw",
    "source": [],
    "metadata": {
     "collapsed": false
    }
   }
  }
 },
 "nbformat": 4,
 "nbformat_minor": 0
}