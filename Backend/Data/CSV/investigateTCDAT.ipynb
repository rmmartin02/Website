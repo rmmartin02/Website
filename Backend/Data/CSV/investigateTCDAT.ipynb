{
 "cells": [
  {
   "cell_type": "code",
   "execution_count": 31,
   "metadata": {
    "collapsed": true,
    "pycharm": {
     "is_executing": false
    }
   },
   "outputs": [],
   "source": [
    "import csv\n",
    "import re"
   ]
  },
  {
   "cell_type": "code",
   "execution_count": 32,
   "outputs": [
    {
     "name": "stdout",
     "text": [
      "9553952\n"
     ],
     "output_type": "stream"
    }
   ],
   "source": [
    "rows = []\n",
    "with open('tcdat.csv', 'r') as tcdatCSV:\n",
    "    reader = csv.reader(tcdatCSV)\n",
    "    for row in reader:\n",
    "        rows.append(row)\n",
    "print(len(rows))"
   ],
   "metadata": {
    "collapsed": false,
    "pycharm": {
     "name": "#%%\n",
     "is_executing": false
    }
   }
  },
  {
   "cell_type": "code",
   "execution_count": 34,
   "outputs": [],
   "source": [
    "images = []\n",
    "for row in rows:\n",
    "    images.append(row[-2].split('.'))"
   ],
   "metadata": {
    "collapsed": false,
    "pycharm": {
     "name": "#%%\n",
     "is_executing": false
    }
   }
  },
  {
   "cell_type": "code",
   "execution_count": 35,
   "outputs": [],
   "source": [
    "imgFieldSetLens = {}\n",
    "examples = []\n",
    "for img in images:\n",
    "    if len(img) in imgFieldSetLens:\n",
    "        imgFieldSetLens[len(img)] += 1\n",
    "    else:\n",
    "        imgFieldSetLens[len(img)] = 1\n",
    "        examples.append(img)\n",
    "        "
   ],
   "metadata": {
    "collapsed": false,
    "pycharm": {
     "name": "#%%\n",
     "is_executing": false
    }
   }
  },
  {
   "cell_type": "code",
   "execution_count": 36,
   "outputs": [],
   "source": [
    "extensions = {}\n",
    "extExamples = []\n",
    "for img in images:\n",
    "    if img[-1] in extensions:\n",
    "        extensions[img[-1]] += 1\n",
    "    else:\n",
    "        extensions[img[-1]] = 1\n",
    "        extExamples.append(img)"
   ],
   "metadata": {
    "collapsed": false,
    "pycharm": {
     "name": "#%%\n",
     "is_executing": false
    }
   }
  },
  {
   "cell_type": "code",
   "execution_count": 37,
   "outputs": [],
   "source": [
    "count = 0\n",
    "for img in images:\n",
    "    if re.fullmatch('\\d\\d\\d\\d\\d\\d\\d\\d',img[0]) and not re.fullmatch('\\d\\d\\d\\d',img[1]):\n",
    "        #print(img)\n",
    "        count += 1"
   ],
   "metadata": {
    "collapsed": false,
    "pycharm": {
     "name": "#%%\n",
     "is_executing": false
    }
   }
  },
  {
   "cell_type": "code",
   "execution_count": 38,
   "outputs": [],
   "source": [
    "count = 0\n",
    "for img in images:\n",
    "    if re.match('\\d\\d\\d\\d\\d\\d\\d\\d',img[0]) and not re.fullmatch('\\d\\d\\d\\d\\d\\d\\d\\d',img[0]):\n",
    "        #print(img)\n",
    "        count += 1\n"
   ],
   "metadata": {
    "collapsed": false,
    "pycharm": {
     "name": "#%%\n",
     "is_executing": false
    }
   }
  }
 ],
 "metadata": {
  "kernelspec": {
   "display_name": "Python 3",
   "language": "python",
   "name": "python3"
  },
  "language_info": {
   "codemirror_mode": {
    "name": "ipython",
    "version": 2
   },
   "file_extension": ".py",
   "mimetype": "text/x-python",
   "name": "python",
   "nbconvert_exporter": "python",
   "pygments_lexer": "ipython2",
   "version": "2.7.6"
  },
  "pycharm": {
   "stem_cell": {
    "cell_type": "raw",
    "source": [],
    "metadata": {
     "collapsed": false
    }
   }
  }
 },
 "nbformat": 4,
 "nbformat_minor": 0
}