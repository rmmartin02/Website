{
 "cells": [
  {
   "cell_type": "code",
   "execution_count": 68,
   "outputs": [],
   "source": [
    "import requests\n",
    "from bs4 import BeautifulSoup\n",
    "from datetime import datetime"
   ],
   "metadata": {
    "collapsed": false,
    "pycharm": {
     "name": "#%%\n"
    }
   }
  },
  {
   "cell_type": "code",
   "execution_count": 154,
   "outputs": [
    {
     "name": "stdout",
     "output_type": "stream",
     "text": [
      "/wiki/Aubry_II_de_M%C3%A2con\n"
     ]
    }
   ],
   "source": [
    "def getRealId(id):\n",
    "\tif 'wikipedia.org' in id:\n",
    "\t\tid = \"/wiki/{}\".format(id.split('/')[-1])\n",
    "\tresponse = requests.get(\n",
    "\t\turl=\"https://en.wikipedia.org{}\".format(id),\n",
    "\t)\n",
    "\tsoup = BeautifulSoup(response.content, 'html.parser')\n",
    "\tlink = soup.find('link', rel='canonical').get('href').split('/')[-1]\n",
    "\treturn \"/wiki/{}\".format(link)\n",
    "\n",
    "\n",
    "print(getRealId(\"https://fr.wikipedia.org/wiki/Aubry_II_de_M%C3%A2con\"))"
   ],
   "metadata": {
    "collapsed": false,
    "pycharm": {
     "name": "#%%\n"
    }
   }
  },
  {
   "cell_type": "code",
   "execution_count": 160,
   "outputs": [
    {
     "name": "stdout",
     "output_type": "stream",
     "text": [
      "None\n"
     ]
    }
   ],
   "source": [
    "response = requests.get(\n",
    "\turl=\"https://en.wikipedia.org/wiki/Nomen_nescio\",\n",
    ")\n",
    "soup = BeautifulSoup(response.content, 'html.parser')\n",
    "\n",
    "infobox = soup.find(\"table\", class_=\"infobox\")\n",
    "print(infobox)"
   ],
   "metadata": {
    "collapsed": false,
    "pycharm": {
     "name": "#%%\n"
    }
   }
  },
  {
   "cell_type": "code",
   "execution_count": 161,
   "outputs": [
    {
     "ename": "AttributeError",
     "evalue": "'NoneType' object has no attribute 'text'",
     "output_type": "error",
     "traceback": [
      "\u001B[1;31m---------------------------------------------------------------------------\u001B[0m",
      "\u001B[1;31mAttributeError\u001B[0m                            Traceback (most recent call last)",
      "\u001B[1;32m<ipython-input-161-d953a7aa69d9>\u001B[0m in \u001B[0;36m<module>\u001B[1;34m\u001B[0m\n\u001B[1;32m----> 1\u001B[1;33m \u001B[0mperson\u001B[0m\u001B[1;33m[\u001B[0m\u001B[1;34m'name'\u001B[0m\u001B[1;33m]\u001B[0m \u001B[1;33m=\u001B[0m \u001B[0msoup\u001B[0m\u001B[1;33m.\u001B[0m\u001B[0mfind\u001B[0m\u001B[1;33m(\u001B[0m\u001B[1;34m\"span\"\u001B[0m\u001B[1;33m,\u001B[0m \u001B[0mclass_\u001B[0m\u001B[1;33m=\u001B[0m\u001B[1;34m\"mw-page-title-main\"\u001B[0m\u001B[1;33m)\u001B[0m\u001B[1;33m.\u001B[0m\u001B[0mtext\u001B[0m\u001B[1;33m\u001B[0m\u001B[1;33m\u001B[0m\u001B[0m\n\u001B[0m",
      "\u001B[1;31mAttributeError\u001B[0m: 'NoneType' object has no attribute 'text'"
     ]
    }
   ],
   "source": [
    "person['name'] = soup.find(\"span\", class_=\"mw-page-title-main\").text"
   ],
   "metadata": {
    "collapsed": false,
    "pycharm": {
     "name": "#%%\n"
    }
   }
  },
  {
   "cell_type": "code",
   "execution_count": 162,
   "outputs": [
    {
     "ename": "AttributeError",
     "evalue": "'NoneType' object has no attribute 'find'",
     "output_type": "error",
     "traceback": [
      "\u001B[1;31m---------------------------------------------------------------------------\u001B[0m",
      "\u001B[1;31mAttributeError\u001B[0m                            Traceback (most recent call last)",
      "\u001B[1;32m<ipython-input-162-263d43d24bf5>\u001B[0m in \u001B[0;36m<module>\u001B[1;34m\u001B[0m\n\u001B[0;32m     51\u001B[0m                 \u001B[0mperson\u001B[0m\u001B[1;33m[\u001B[0m\u001B[1;34m'{}Place'\u001B[0m\u001B[1;33m.\u001B[0m\u001B[0mformat\u001B[0m\u001B[1;33m(\u001B[0m\u001B[1;34m\"birth\"\u001B[0m \u001B[1;32mif\u001B[0m \u001B[0mbirth\u001B[0m \u001B[1;32melse\u001B[0m \u001B[1;34m\"death\"\u001B[0m\u001B[1;33m)\u001B[0m\u001B[1;33m]\u001B[0m \u001B[1;33m=\u001B[0m \u001B[1;33m[\u001B[0m\u001B[0ma\u001B[0m \u001B[1;32mfor\u001B[0m \u001B[0ma\u001B[0m \u001B[1;32min\u001B[0m \u001B[0mdateRow\u001B[0m\u001B[1;33m.\u001B[0m\u001B[0mfind_all\u001B[0m\u001B[1;33m(\u001B[0m\u001B[1;34m\"a\"\u001B[0m\u001B[1;33m)\u001B[0m \u001B[1;32mif\u001B[0m \u001B[0ma\u001B[0m\u001B[1;33m.\u001B[0m\u001B[0mget\u001B[0m\u001B[1;33m(\u001B[0m\u001B[1;34m\"title\"\u001B[0m\u001B[1;33m)\u001B[0m\u001B[1;33m]\u001B[0m\u001B[1;33m[\u001B[0m\u001B[1;36m0\u001B[0m\u001B[1;33m]\u001B[0m\u001B[1;33m.\u001B[0m\u001B[0mget\u001B[0m\u001B[1;33m(\u001B[0m\u001B[1;34m\"href\"\u001B[0m\u001B[1;33m)\u001B[0m \u001B[1;32mif\u001B[0m \u001B[0mlen\u001B[0m\u001B[1;33m(\u001B[0m\u001B[1;33m[\u001B[0m\u001B[0ma\u001B[0m \u001B[1;32mfor\u001B[0m \u001B[0ma\u001B[0m \u001B[1;32min\u001B[0m \u001B[0mdateRow\u001B[0m\u001B[1;33m.\u001B[0m\u001B[0mfind_all\u001B[0m\u001B[1;33m(\u001B[0m\u001B[1;34m\"a\"\u001B[0m\u001B[1;33m)\u001B[0m \u001B[1;32mif\u001B[0m \u001B[0ma\u001B[0m\u001B[1;33m.\u001B[0m\u001B[0mget\u001B[0m\u001B[1;33m(\u001B[0m\u001B[1;34m\"title\"\u001B[0m\u001B[1;33m)\u001B[0m\u001B[1;33m]\u001B[0m\u001B[1;33m)\u001B[0m \u001B[1;33m>\u001B[0m \u001B[1;36m0\u001B[0m \u001B[1;32melse\u001B[0m \u001B[1;32mNone\u001B[0m\u001B[1;33m\u001B[0m\u001B[1;33m\u001B[0m\u001B[0m\n\u001B[0;32m     52\u001B[0m \u001B[0mperson\u001B[0m \u001B[1;33m=\u001B[0m \u001B[1;33m{\u001B[0m\u001B[1;33m}\u001B[0m\u001B[1;33m\u001B[0m\u001B[1;33m\u001B[0m\u001B[0m\n\u001B[1;32m---> 53\u001B[1;33m \u001B[0mextractDate\u001B[0m\u001B[1;33m(\u001B[0m\u001B[0minfobox\u001B[0m\u001B[1;33m,\u001B[0m \u001B[0mperson\u001B[0m\u001B[1;33m)\u001B[0m\u001B[1;33m\u001B[0m\u001B[1;33m\u001B[0m\u001B[0m\n\u001B[0m\u001B[0;32m     54\u001B[0m \u001B[0mextractDate\u001B[0m\u001B[1;33m(\u001B[0m\u001B[0minfobox\u001B[0m\u001B[1;33m,\u001B[0m \u001B[0mperson\u001B[0m\u001B[1;33m,\u001B[0m \u001B[0mbirth\u001B[0m\u001B[1;33m=\u001B[0m\u001B[1;32mFalse\u001B[0m\u001B[1;33m)\u001B[0m\u001B[1;33m\u001B[0m\u001B[1;33m\u001B[0m\u001B[0m\n\u001B[0;32m     55\u001B[0m \u001B[0mprint\u001B[0m\u001B[1;33m(\u001B[0m\u001B[0mperson\u001B[0m\u001B[1;33m)\u001B[0m\u001B[1;33m\u001B[0m\u001B[1;33m\u001B[0m\u001B[0m\n",
      "\u001B[1;32m<ipython-input-162-263d43d24bf5>\u001B[0m in \u001B[0;36mextractDate\u001B[1;34m(infobox, person, birth)\u001B[0m\n\u001B[0;32m     37\u001B[0m \u001B[1;33m\u001B[0m\u001B[0m\n\u001B[0;32m     38\u001B[0m \u001B[1;32mdef\u001B[0m \u001B[0mextractDate\u001B[0m\u001B[1;33m(\u001B[0m\u001B[0minfobox\u001B[0m\u001B[1;33m,\u001B[0m \u001B[0mperson\u001B[0m\u001B[1;33m,\u001B[0m \u001B[0mbirth\u001B[0m\u001B[1;33m=\u001B[0m\u001B[1;32mTrue\u001B[0m\u001B[1;33m)\u001B[0m\u001B[1;33m:\u001B[0m\u001B[1;33m\u001B[0m\u001B[1;33m\u001B[0m\u001B[0m\n\u001B[1;32m---> 39\u001B[1;33m         \u001B[0mdateRow\u001B[0m \u001B[1;33m=\u001B[0m \u001B[0minfobox\u001B[0m\u001B[1;33m.\u001B[0m\u001B[0mfind\u001B[0m\u001B[1;33m(\u001B[0m\u001B[1;34m\"th\"\u001B[0m\u001B[1;33m,\u001B[0m \u001B[0mtext\u001B[0m\u001B[1;33m=\u001B[0m\u001B[1;34m\"Born\"\u001B[0m\u001B[1;33m)\u001B[0m\u001B[1;33m.\u001B[0m\u001B[0mparent\u001B[0m \u001B[1;32mif\u001B[0m \u001B[0minfobox\u001B[0m\u001B[1;33m.\u001B[0m\u001B[0mfind\u001B[0m\u001B[1;33m(\u001B[0m\u001B[1;34m\"th\"\u001B[0m\u001B[1;33m,\u001B[0m \u001B[0mtext\u001B[0m\u001B[1;33m=\u001B[0m\u001B[1;34m\"Born\"\u001B[0m\u001B[1;33m)\u001B[0m \u001B[1;32melse\u001B[0m \u001B[1;32mNone\u001B[0m\u001B[1;33m\u001B[0m\u001B[1;33m\u001B[0m\u001B[0m\n\u001B[0m\u001B[0;32m     40\u001B[0m         \u001B[1;32mif\u001B[0m \u001B[1;32mnot\u001B[0m \u001B[0mbirth\u001B[0m\u001B[1;33m:\u001B[0m\u001B[1;33m\u001B[0m\u001B[1;33m\u001B[0m\u001B[0m\n\u001B[0;32m     41\u001B[0m                 \u001B[0mdateRow\u001B[0m \u001B[1;33m=\u001B[0m \u001B[0minfobox\u001B[0m\u001B[1;33m.\u001B[0m\u001B[0mfind\u001B[0m\u001B[1;33m(\u001B[0m\u001B[1;34m\"th\"\u001B[0m\u001B[1;33m,\u001B[0m \u001B[0mtext\u001B[0m\u001B[1;33m=\u001B[0m\u001B[1;34m\"Died\"\u001B[0m\u001B[1;33m)\u001B[0m\u001B[1;33m.\u001B[0m\u001B[0mparent\u001B[0m \u001B[1;32mif\u001B[0m \u001B[0minfobox\u001B[0m\u001B[1;33m.\u001B[0m\u001B[0mfind\u001B[0m\u001B[1;33m(\u001B[0m\u001B[1;34m\"th\"\u001B[0m\u001B[1;33m,\u001B[0m \u001B[0mtext\u001B[0m\u001B[1;33m=\u001B[0m\u001B[1;34m\"Died\"\u001B[0m\u001B[1;33m)\u001B[0m \u001B[1;32melse\u001B[0m \u001B[1;32mNone\u001B[0m\u001B[1;33m\u001B[0m\u001B[1;33m\u001B[0m\u001B[0m\n",
      "\u001B[1;31mAttributeError\u001B[0m: 'NoneType' object has no attribute 'find'"
     ]
    }
   ],
   "source": [
    "def extractDateFromStr(dateDateStr, person, birth=True):\n",
    "\t# Check for the presence of \"c.\" prefix\n",
    "\tif \"c.\" in dateDateStr:\n",
    "\t\tdateDateStr = dateDateStr.replace(\"c.\", \"\").strip()\n",
    "\tif '(' in dateDateStr:\n",
    "\t\tdateDateStr = dateDateStr.split('(')[0]\n",
    "\n",
    "\t# Extract day, month, and year\n",
    "\tdate_parts = dateDateStr.split()\n",
    "\tday = None\n",
    "\tmonth = None\n",
    "\tyear = None\n",
    "\n",
    "\tprint(date_parts)\n",
    "\t# Process the date parts based on their availability\n",
    "\tif len(date_parts) == 3:\n",
    "\t\tday, month, year = date_parts\n",
    "\telif len(date_parts) == 2:\n",
    "\t\t# Handle cases like \"April 747\" where the day is missing\n",
    "\t\tif date_parts[1].isdigit():\n",
    "\t\t\tmonth, year = date_parts\n",
    "\t\telse:\n",
    "\t\t\tmonth, year = date_parts[::-1]  # Reverse the order\n",
    "\telif len(date_parts) == 1:\n",
    "\t\t# Handle cases like \"747\" where only the year is available\n",
    "\t\tyear = date_parts[0]\n",
    "\n",
    "\tprint(month, year)\n",
    "\t# Convert year to an integer if available\n",
    "\tif year:\n",
    "\t\tyear = int(year)\n",
    "\n",
    "\t# Create a datetime object with the available date parts\n",
    "\tif year:\n",
    "\t\tperson['{}Date'.format(\"birth\" if birth else \"death\")] = datetime(year=year, month=datetime.strptime(month, \"%B\").month,\n",
    "\t\t\t\t\t\t\t day=int(day)) if day and month else datetime(year=year, month=1, day=1)\n",
    "\n",
    "def extractDate(infobox, person, birth=True):\n",
    "\tdateRow = infobox.find(\"th\", text=\"Born\").parent if infobox.find(\"th\", text=\"Born\") else None\n",
    "\tif not birth:\n",
    "\t\tdateRow = infobox.find(\"th\", text=\"Died\").parent if infobox.find(\"th\", text=\"Died\") else None\n",
    "\tif dateRow:\n",
    "\t\tprint(dateRow)\n",
    "\t\tdateDateStrList = dateRow.find(\"td\").contents\n",
    "\t\tprint(dateDateStrList)\n",
    "\t\tfor dateDateStr in dateDateStrList:\n",
    "\t\t\ttry:\n",
    "\t\t\t\textractDateFromStr(dateDateStr, person, birth=birth)\n",
    "\t\t\texcept:\n",
    "\t\t\t\tprint(\"Bad Date String: {}\".format(dateDateStr))\n",
    "\t\tperson['{}Place'.format(\"birth\" if birth else \"death\")] = [a for a in dateRow.find_all(\"a\") if a.get(\"title\")][0].get(\"href\") if len([a for a in dateRow.find_all(\"a\") if a.get(\"title\")]) > 0 else None\n",
    "person = {}\n",
    "extractDate(infobox, person)\n",
    "extractDate(infobox, person, birth=False)\n",
    "print(person)"
   ],
   "metadata": {
    "collapsed": false,
    "pycharm": {
     "name": "#%%\n"
    }
   }
  },
  {
   "cell_type": "code",
   "execution_count": 115,
   "outputs": [
    {
     "name": "stdout",
     "output_type": "stream",
     "text": [
      "['799']\n",
      "None 799\n"
     ]
    }
   ],
   "source": [
    "extractDateFromStr(\"799 (aged 74)\", person)"
   ],
   "metadata": {
    "collapsed": false,
    "pycharm": {
     "name": "#%%\n"
    }
   }
  },
  {
   "cell_type": "code",
   "execution_count": 27,
   "outputs": [
    {
     "name": "stdout",
     "output_type": "stream",
     "text": [
      "<tr><th class=\"infobox-label\" scope=\"row\">Died</th><td class=\"infobox-data\">28 January 814 <span class=\"nowrap\">(aged 66)</span><sup class=\"reference\" id=\"cite_ref-Charlemagne_Britannica_2-1\"><a href=\"#cite_note-Charlemagne_Britannica-2\">[2]</a></sup><br/>Aachen, <a href=\"/wiki/Francia\" title=\"Francia\">Francia</a></td></tr>\n",
      "28 January 814 \n",
      "/wiki/Francia\n"
     ]
    }
   ],
   "source": [
    "deathRow = infobox.find(\"th\", text=\"Died\").parent\n",
    "print(deathRow)\n",
    "deathDate = deathRow.find(\"td\")\n",
    "print(deathDate.contents[0])\n",
    "deathPlace = [a for a in deathRow.find_all(\"a\") if a.get(\"title\")][0].get(\"href\")\n",
    "print(deathPlace)"
   ],
   "metadata": {
    "collapsed": false,
    "pycharm": {
     "name": "#%%\n"
    }
   }
  },
  {
   "cell_type": "code",
   "execution_count": 86,
   "outputs": [
    {
     "name": "stdout",
     "output_type": "stream",
     "text": [
      "<tr><th class=\"infobox-label\" scope=\"row\">Spouse</th><td class=\"infobox-data\"><a href=\"/wiki/Charlemagne\" title=\"Charlemagne\">Charlemagne</a> (m. <abbr title=\"circa\">c.</abbr><span style=\"white-space:nowrap;\"> 783</span>)</td></tr>\n",
      "['/wiki/Charlemagne']\n"
     ]
    }
   ],
   "source": [
    "if infobox.find(\"th\", text=\"Spouses\"):\n",
    "\tspouseRow = infobox.find(\"th\", text=\"Spouses\").parent\n",
    "\tprint(spouseRow)\n",
    "\tspouseList = [spouse.find(\"a\").get(\"href\") for spouse in spouseRow.findAll(\"li\") if spouse.find(\"a\") and spouse.find(\"a\").get(\"href\")]\n",
    "\tprint(spouseList)\n",
    "else:\n",
    "\tspouseRow = infobox.find(\"th\", text=\"Spouse\").parent\n",
    "\tprint(spouseRow)\n",
    "\tspouseList = [spouseRow.find('a').get('href')]\n",
    "\tprint(spouseList)"
   ],
   "metadata": {
    "collapsed": false,
    "pycharm": {
     "name": "#%%\n"
    }
   }
  },
  {
   "cell_type": "code",
   "execution_count": 36,
   "outputs": [
    {
     "name": "stdout",
     "output_type": "stream",
     "text": [
      "<tr><th class=\"infobox-label\" scope=\"row\">Issue<br/><span style=\"font-weight:normal\"><i><a href=\"#Wives,_concubines,_and_children\">Among others</a></i></span></th><td class=\"infobox-data\"><link href=\"mw-data:TemplateStyles:r1126788409\" rel=\"mw-deduplicated-inline-style\"/><div class=\"plainlist\">\n",
      "<ul><li><a href=\"/wiki/Pepin_the_Hunchback\" title=\"Pepin the Hunchback\">Pepin the Hunchback</a></li>\n",
      "<li><a href=\"/wiki/Charles_the_Younger\" title=\"Charles the Younger\">Charles the Younger</a></li>\n",
      "<li><a href=\"/wiki/Pepin_of_Italy\" title=\"Pepin of Italy\">Pepin of Italy</a></li>\n",
      "<li><a href=\"/wiki/Louis_the_Pious\" title=\"Louis the Pious\">Louis the Pious</a></li></ul>\n",
      "</div></td></tr>\n",
      "['/wiki/Pepin_the_Hunchback', '/wiki/Charles_the_Younger', '/wiki/Pepin_of_Italy', '/wiki/Louis_the_Pious']\n"
     ]
    }
   ],
   "source": [
    "issueRow = infobox.find(lambda tag: tag.name == 'th' and 'Issue' in tag.text).parent\n",
    "print(issueRow)\n",
    "issueList = [issue.find(\"a\").get(\"href\") for issue in issueRow.findAll(\"li\") if issue.find(\"a\") and issue.find(\"a\").get(\"href\")]\n",
    "print(issueList)"
   ],
   "metadata": {
    "collapsed": false,
    "pycharm": {
     "name": "#%%\n"
    }
   }
  },
  {
   "cell_type": "code",
   "execution_count": 40,
   "outputs": [
    {
     "name": "stdout",
     "output_type": "stream",
     "text": [
      "<tr><th class=\"infobox-label\" scope=\"row\"><a href=\"/wiki/Dynasty\" title=\"Dynasty\">Dynasty</a></th><td class=\"infobox-data\"><a href=\"/wiki/Carolingian_dynasty\" title=\"Carolingian dynasty\">Carolingian</a></td></tr>\n",
      "/wiki/Carolingian_dynasty\n"
     ]
    }
   ],
   "source": [
    "dynastyRow = infobox.find(\"th\", text=\"Dynasty\").parent\n",
    "print(dynastyRow)\n",
    "dynasty = dynastyRow.find(\"td\").find(\"a\").get(\"href\")\n",
    "print(dynasty)"
   ],
   "metadata": {
    "collapsed": false,
    "pycharm": {
     "name": "#%%\n"
    }
   }
  },
  {
   "cell_type": "code",
   "execution_count": 90,
   "outputs": [
    {
     "name": "stdout",
     "output_type": "stream",
     "text": [
      "<tr><th class=\"infobox-label\" scope=\"row\">Father</th><td class=\"infobox-data\">East Frankish Count Rudolph</td></tr>\n",
      "East Frankish Count Rudolph\n"
     ]
    }
   ],
   "source": [
    "fatherRow = infobox.find(\"th\", text=\"Father\").parent\n",
    "print(fatherRow)\n",
    "father = fatherRow.find(\"td\").find(\"a\").get(\"href\") if fatherRow.find(\"td\").find(\"a\") else fatherRow.find(\"td\").text\n",
    "print(father)"
   ],
   "metadata": {
    "collapsed": false,
    "pycharm": {
     "name": "#%%\n"
    }
   }
  },
  {
   "cell_type": "code",
   "execution_count": 42,
   "outputs": [
    {
     "name": "stdout",
     "output_type": "stream",
     "text": [
      "<tr><th class=\"infobox-label\" scope=\"row\">Mother</th><td class=\"infobox-data\"><a href=\"/wiki/Bertrada_of_Laon\" title=\"Bertrada of Laon\">Bertrada of Laon</a></td></tr>\n",
      "/wiki/Bertrada_of_Laon\n"
     ]
    }
   ],
   "source": [
    "motherRow = infobox.find(\"th\", text=\"Mother\").parent\n",
    "print(motherRow)\n",
    "mother = motherRow.find(\"td\").find(\"a\").get(\"href\")\n",
    "print(mother)"
   ],
   "metadata": {
    "collapsed": false,
    "pycharm": {
     "name": "#%%\n"
    }
   }
  },
  {
   "cell_type": "code",
   "execution_count": 159,
   "outputs": [
    {
     "name": "stdout",
     "output_type": "stream",
     "text": [
      "<tr><th class=\"infobox-label\" scope=\"row\"><a href=\"/wiki/Dynasty\" title=\"Dynasty\">House</a></th><td class=\"infobox-data\"><a class=\"mw-redirect\" href=\"/wiki/Capet\" title=\"Capet\">Capet</a></td></tr>\n",
      "/wiki/Capet\n"
     ]
    }
   ],
   "source": [
    "houseRow = infobox.find(\"th\", text=\"House\").parent\n",
    "print(houseRow)\n",
    "house = houseRow.find(\"td\").find(\"a\").get(\"href\") if houseRow.find(\"td\").find(\"a\") else houseRow.find(\"td\").text\n",
    "print(house)"
   ],
   "metadata": {
    "collapsed": false,
    "pycharm": {
     "name": "#%%\n"
    }
   }
  },
  {
   "cell_type": "code",
   "execution_count": 157,
   "outputs": [
    {
     "name": "stdout",
     "output_type": "stream",
     "text": [
      "<tr><th class=\"infobox-label\" scope=\"row\">Religion</th><td class=\"infobox-data\">Roman Catholic</td></tr>\n",
      "Roman Catholic\n"
     ]
    }
   ],
   "source": [
    "religionRow = infobox.find(\"th\", text=\"Religion\").parent\n",
    "print(religionRow)\n",
    "religion = religionRow.find(\"td\").find(\"a\").get(\"href\") if religionRow.find(\"td\").find(\"a\") else religionRow.find(\"td\").text\n",
    "print(religion)"
   ],
   "metadata": {
    "collapsed": false,
    "pycharm": {
     "name": "#%%\n"
    }
   }
  },
  {
   "cell_type": "code",
   "execution_count": 45,
   "outputs": [
    {
     "name": "stdout",
     "output_type": "stream",
     "text": [
      "//upload.wikimedia.org/wikipedia/commons/thumb/f/fb/Charlemagne_denier_Mayence_812_814.jpg/225px-Charlemagne_denier_Mayence_812_814.jpg\n"
     ]
    }
   ],
   "source": [
    "picture = infobox.find(\"img\").get(\"src\")\n",
    "print(picture)"
   ],
   "metadata": {
    "collapsed": false,
    "pycharm": {
     "name": "#%%\n"
    }
   }
  },
  {
   "cell_type": "code",
   "execution_count": 46,
   "outputs": [
    {
     "name": "stdout",
     "output_type": "stream",
     "text": [
      "Charlemagne\n"
     ]
    }
   ],
   "source": [
    "name = infobox.find(\"th\").text\n",
    "print(name)"
   ],
   "metadata": {
    "collapsed": false,
    "pycharm": {
     "name": "#%%\n"
    }
   }
  },
  {
   "cell_type": "code",
   "execution_count": 147,
   "outputs": [
    {
     "name": "stdout",
     "output_type": "stream",
     "text": [
      "{'title': 'Countess Palatine of Lotharingia'}\n"
     ]
    }
   ],
   "source": [
    "def getTitle(infobox, person):\n",
    "\tif infobox.find(\"td\", class_=\"infobox-subheader\"):\n",
    "\t\tperson['title'] = infobox.find(\"td\", class_=\"infobox-subheader\").find('a').get('href') if  infobox.find(\"td\", class_=\"infobox-subheader\").find('a') else  infobox.find(\"td\", class_=\"infobox-subheader\").text\n",
    "\telif infobox.find(\"th\", attrs={\"style\": \"background-color: #e4dcf6;line-height:normal;padding:0.2em 0.2em\"}):\n",
    "\t\tperson['title'] = infobox.find(\"th\", attrs={\"style\": \"background-color: #e4dcf6;line-height:normal;padding:0.2em 0.2em\"}).find('a').get('href') if infobox.find(\"th\", attrs={\"style\": \"background-color: #e4dcf6;line-height:normal;padding:0.2em 0.2em\"}).find('a') else infobox.find(\"th\", attrs={\"style\": \"background-color: #e4dcf6;line-height:normal;padding:0.2em 0.2em\"}).text\n",
    "person = {}\n",
    "getTitle(infobox, person)\n",
    "print(person)"
   ],
   "metadata": {
    "collapsed": false,
    "pycharm": {
     "name": "#%%\n"
    }
   }
  },
  {
   "cell_type": "code",
   "execution_count": null,
   "outputs": [],
   "source": [],
   "metadata": {
    "collapsed": false,
    "pycharm": {
     "name": "#%%\n"
    }
   }
  }
 ],
 "metadata": {
  "kernelspec": {
   "display_name": "Python 3",
   "language": "python",
   "name": "python3"
  },
  "language_info": {
   "codemirror_mode": {
    "name": "ipython",
    "version": 2
   },
   "file_extension": ".py",
   "mimetype": "text/x-python",
   "name": "python",
   "nbconvert_exporter": "python",
   "pygments_lexer": "ipython2",
   "version": "2.7.6"
  }
 },
 "nbformat": 4,
 "nbformat_minor": 0
}